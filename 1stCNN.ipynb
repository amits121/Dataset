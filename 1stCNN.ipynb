{
 "cells": [
  {
   "cell_type": "code",
   "execution_count": 1,
   "id": "1e8f2aa6",
   "metadata": {},
   "outputs": [],
   "source": [
    "import tensorflow as tf\n",
    "from keras.preprocessing.image import ImageDataGenerator"
   ]
  },
  {
   "cell_type": "code",
   "execution_count": 2,
   "id": "27d006e7",
   "metadata": {},
   "outputs": [
    {
     "data": {
      "text/plain": [
       "'2.8.0'"
      ]
     },
     "execution_count": 2,
     "metadata": {},
     "output_type": "execute_result"
    }
   ],
   "source": [
    "tf.__version__"
   ]
  },
  {
   "cell_type": "code",
   "execution_count": 3,
   "id": "7d15426f",
   "metadata": {},
   "outputs": [
    {
     "name": "stdout",
     "output_type": "stream",
     "text": [
      "Found 8000 images belonging to 2 classes.\n"
     ]
    }
   ],
   "source": [
    "train_datagen = ImageDataGenerator(rescale = 1./255,\n",
    "                                   shear_range = 0.2,\n",
    "                                   zoom_range = 0.2,\n",
    "                                   horizontal_flip = True)\n",
    "training_set = train_datagen.flow_from_directory('dataset/dataset/training_set',\n",
    "                                                 target_size = (64, 64),\n",
    "                                                 batch_size = 32,\n",
    "                                                 class_mode = 'binary')"
   ]
  },
  {
   "cell_type": "code",
   "execution_count": 4,
   "id": "6e40eae1",
   "metadata": {},
   "outputs": [
    {
     "name": "stdout",
     "output_type": "stream",
     "text": [
      "Found 2000 images belonging to 2 classes.\n"
     ]
    }
   ],
   "source": [
    "test_datagen = ImageDataGenerator(rescale = 1./255)\n",
    "test_set = test_datagen.flow_from_directory('dataset/dataset/test_set',\n",
    "                                            target_size = (64, 64),\n",
    "                                            batch_size = 32,\n",
    "                                            class_mode = 'binary')"
   ]
  },
  {
   "cell_type": "code",
   "execution_count": 5,
   "id": "3b9ac89c",
   "metadata": {},
   "outputs": [],
   "source": [
    "cnn = tf.keras.models.Sequential()"
   ]
  },
  {
   "cell_type": "code",
   "execution_count": 6,
   "id": "e4ecd064",
   "metadata": {},
   "outputs": [],
   "source": [
    "cnn.add(tf.keras.layers.Conv2D(filters=32, kernel_size=3, activation='relu', input_shape=[64, 64, 3]))"
   ]
  },
  {
   "cell_type": "code",
   "execution_count": 7,
   "id": "46e36a86",
   "metadata": {},
   "outputs": [],
   "source": [
    "cnn.add(tf.keras.layers.MaxPool2D(pool_size=2, strides=2))"
   ]
  },
  {
   "cell_type": "code",
   "execution_count": 8,
   "id": "6009c05d",
   "metadata": {},
   "outputs": [],
   "source": [
    "cnn.add(tf.keras.layers.Conv2D(filters=32, kernel_size=3, activation='relu'))\n",
    "cnn.add(tf.keras.layers.MaxPool2D(pool_size=2, strides=2))"
   ]
  },
  {
   "cell_type": "code",
   "execution_count": 9,
   "id": "3057db16",
   "metadata": {},
   "outputs": [],
   "source": [
    "cnn.add(tf.keras.layers.Flatten())"
   ]
  },
  {
   "cell_type": "code",
   "execution_count": 10,
   "id": "a9719e90",
   "metadata": {},
   "outputs": [],
   "source": [
    "cnn.add(tf.keras.layers.Dense(units=128, activation='relu'))"
   ]
  },
  {
   "cell_type": "code",
   "execution_count": 11,
   "id": "04ea0f0b",
   "metadata": {},
   "outputs": [],
   "source": [
    "cnn.add(tf.keras.layers.Dense(units=1, activation='sigmoid'))"
   ]
  },
  {
   "cell_type": "code",
   "execution_count": 12,
   "id": "ade4bbd9",
   "metadata": {},
   "outputs": [],
   "source": [
    "cnn.compile(optimizer = 'adam', loss = 'binary_crossentropy', metrics = ['accuracy'])"
   ]
  },
  {
   "cell_type": "code",
   "execution_count": 13,
   "id": "50632d25",
   "metadata": {},
   "outputs": [
    {
     "name": "stdout",
     "output_type": "stream",
     "text": [
      "Epoch 1/25\n",
      "250/250 [==============================] - 45s 175ms/step - loss: 0.6852 - accuracy: 0.5475 - val_loss: 0.6429 - val_accuracy: 0.6395\n",
      "Epoch 2/25\n",
      "250/250 [==============================] - 36s 143ms/step - loss: 0.6219 - accuracy: 0.6594 - val_loss: 0.6276 - val_accuracy: 0.6500\n",
      "Epoch 3/25\n",
      "250/250 [==============================] - 35s 141ms/step - loss: 0.5820 - accuracy: 0.6955 - val_loss: 0.6049 - val_accuracy: 0.6735\n",
      "Epoch 4/25\n",
      "250/250 [==============================] - 36s 142ms/step - loss: 0.5569 - accuracy: 0.7147 - val_loss: 0.5612 - val_accuracy: 0.7120\n",
      "Epoch 5/25\n",
      "250/250 [==============================] - 37s 147ms/step - loss: 0.5313 - accuracy: 0.7340 - val_loss: 0.5567 - val_accuracy: 0.7160\n",
      "Epoch 6/25\n",
      "250/250 [==============================] - 40s 161ms/step - loss: 0.5052 - accuracy: 0.7511 - val_loss: 0.5259 - val_accuracy: 0.7430\n",
      "Epoch 7/25\n",
      "250/250 [==============================] - 37s 147ms/step - loss: 0.4811 - accuracy: 0.7632 - val_loss: 0.5007 - val_accuracy: 0.7590\n",
      "Epoch 8/25\n",
      "250/250 [==============================] - 36s 144ms/step - loss: 0.4700 - accuracy: 0.7719 - val_loss: 0.5372 - val_accuracy: 0.7230\n",
      "Epoch 9/25\n",
      "250/250 [==============================] - 40s 159ms/step - loss: 0.4546 - accuracy: 0.7885 - val_loss: 0.4812 - val_accuracy: 0.7745\n",
      "Epoch 10/25\n",
      "250/250 [==============================] - 46s 184ms/step - loss: 0.4378 - accuracy: 0.7945 - val_loss: 0.4674 - val_accuracy: 0.7805\n",
      "Epoch 11/25\n",
      "250/250 [==============================] - 39s 157ms/step - loss: 0.4306 - accuracy: 0.7954 - val_loss: 0.4666 - val_accuracy: 0.7915\n",
      "Epoch 12/25\n",
      "250/250 [==============================] - 42s 166ms/step - loss: 0.4172 - accuracy: 0.8058 - val_loss: 0.5386 - val_accuracy: 0.7595\n",
      "Epoch 13/25\n",
      "250/250 [==============================] - 43s 173ms/step - loss: 0.4009 - accuracy: 0.8138 - val_loss: 0.4668 - val_accuracy: 0.7865\n",
      "Epoch 14/25\n",
      "250/250 [==============================] - 47s 188ms/step - loss: 0.3947 - accuracy: 0.8166 - val_loss: 0.4733 - val_accuracy: 0.7815\n",
      "Epoch 15/25\n",
      "250/250 [==============================] - 40s 161ms/step - loss: 0.3742 - accuracy: 0.8296 - val_loss: 0.4454 - val_accuracy: 0.7985\n",
      "Epoch 16/25\n",
      "250/250 [==============================] - 44s 174ms/step - loss: 0.3619 - accuracy: 0.8399 - val_loss: 0.4447 - val_accuracy: 0.8000\n",
      "Epoch 17/25\n",
      "250/250 [==============================] - 47s 188ms/step - loss: 0.3506 - accuracy: 0.8453 - val_loss: 0.4572 - val_accuracy: 0.7915\n",
      "Epoch 18/25\n",
      "250/250 [==============================] - 44s 175ms/step - loss: 0.3389 - accuracy: 0.8503 - val_loss: 0.4721 - val_accuracy: 0.7840\n",
      "Epoch 19/25\n",
      "250/250 [==============================] - 36s 146ms/step - loss: 0.3343 - accuracy: 0.8559 - val_loss: 0.4771 - val_accuracy: 0.7870\n",
      "Epoch 20/25\n",
      "250/250 [==============================] - 40s 161ms/step - loss: 0.3192 - accuracy: 0.8625 - val_loss: 0.4566 - val_accuracy: 0.7970\n",
      "Epoch 21/25\n",
      "250/250 [==============================] - 41s 163ms/step - loss: 0.3030 - accuracy: 0.8706 - val_loss: 0.4500 - val_accuracy: 0.8035\n",
      "Epoch 22/25\n",
      "250/250 [==============================] - 42s 166ms/step - loss: 0.2975 - accuracy: 0.8698 - val_loss: 0.4697 - val_accuracy: 0.8095\n",
      "Epoch 23/25\n",
      "250/250 [==============================] - 41s 162ms/step - loss: 0.2824 - accuracy: 0.8800 - val_loss: 0.4644 - val_accuracy: 0.8100\n",
      "Epoch 24/25\n",
      "250/250 [==============================] - 39s 157ms/step - loss: 0.2716 - accuracy: 0.8831 - val_loss: 0.4904 - val_accuracy: 0.7975\n",
      "Epoch 25/25\n",
      "250/250 [==============================] - 45s 181ms/step - loss: 0.2691 - accuracy: 0.8894 - val_loss: 0.5505 - val_accuracy: 0.7685\n"
     ]
    },
    {
     "data": {
      "text/plain": [
       "<keras.callbacks.History at 0x2c6ec9eb430>"
      ]
     },
     "execution_count": 13,
     "metadata": {},
     "output_type": "execute_result"
    }
   ],
   "source": [
    "cnn.fit(x = training_set, validation_data = test_set, epochs = 25)"
   ]
  },
  {
   "cell_type": "code",
   "execution_count": null,
   "id": "9614b9a6",
   "metadata": {},
   "outputs": [],
   "source": [
    "import numpy as np\n",
    "from keras.preprocessing import image\n",
    "test_image = image.load_img('dataset/dataset/single_prediction/cat_or_dog_1.jpg', target_size = (64, 64))\n",
    "test_image = image.img_to_array(test_image)\n",
    "test_image = np.expand_dims(test_image, axis = 0)\n",
    "result = cnn.predict(test_image)\n",
    "training_set.class_indices\n",
    "if result[0][0] == 1:\n",
    "  prediction = 'dog'\n",
    "else:\n",
    "  prediction = 'cat'"
   ]
  },
  {
   "cell_type": "code",
   "execution_count": null,
   "id": "dda4156c",
   "metadata": {},
   "outputs": [],
   "source": [
    "print(prediction)"
   ]
  },
  {
   "cell_type": "code",
   "execution_count": null,
   "id": "8ee4d16e",
   "metadata": {},
   "outputs": [],
   "source": []
  },
  {
   "cell_type": "code",
   "execution_count": null,
   "id": "7a168399",
   "metadata": {},
   "outputs": [],
   "source": []
  },
  {
   "cell_type": "code",
   "execution_count": null,
   "id": "2c585b94",
   "metadata": {},
   "outputs": [],
   "source": []
  }
 ],
 "metadata": {
  "kernelspec": {
   "display_name": "Python 3 (ipykernel)",
   "language": "python",
   "name": "python3"
  },
  "language_info": {
   "codemirror_mode": {
    "name": "ipython",
    "version": 3
   },
   "file_extension": ".py",
   "mimetype": "text/x-python",
   "name": "python",
   "nbconvert_exporter": "python",
   "pygments_lexer": "ipython3",
   "version": "3.9.7"
  }
 },
 "nbformat": 4,
 "nbformat_minor": 5
}
